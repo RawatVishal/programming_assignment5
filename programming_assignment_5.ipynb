{
 "cells": [
  {
   "cell_type": "code",
   "execution_count": 1,
   "id": "3c1605d3",
   "metadata": {},
   "outputs": [],
   "source": [
    "#Q1-Write a python program to find the LCM?"
   ]
  },
  {
   "cell_type": "code",
   "execution_count": 1,
   "id": "dba59fa0",
   "metadata": {},
   "outputs": [],
   "source": [
    "def find_lcm(a,b):\n",
    "    if a>b:\n",
    "        greater = a\n",
    "    else:\n",
    "        greater = b\n",
    "    while(True):\n",
    "        if((greater % a==0) and (greater % b ==0)):\n",
    "            lcm = greater\n",
    "            break\n",
    "        greater = greater+1\n",
    "    print('The lcm is',lcm)"
   ]
  },
  {
   "cell_type": "code",
   "execution_count": 2,
   "id": "ded837b1",
   "metadata": {},
   "outputs": [
    {
     "name": "stdout",
     "output_type": "stream",
     "text": [
      "The lcm is 60\n"
     ]
    }
   ],
   "source": [
    "find_lcm(12,60)"
   ]
  },
  {
   "cell_type": "code",
   "execution_count": 3,
   "id": "c3bc6284",
   "metadata": {},
   "outputs": [],
   "source": [
    "#Q2-Write a python program to find the hcf?\n"
   ]
  },
  {
   "cell_type": "code",
   "execution_count": 18,
   "id": "18781220",
   "metadata": {},
   "outputs": [],
   "source": [
    "def find_hcf(a,b):\n",
    "    if a<b:\n",
    "        lower = a\n",
    "    else:\n",
    "        lower = b\n",
    "    for i in range(1,lower+1):\n",
    "        if ((a % i == 0) and (b % i == 0)):\n",
    "            hcf = i\n",
    "    print('The hcf is',hcf)"
   ]
  },
  {
   "cell_type": "code",
   "execution_count": 20,
   "id": "283e69f5",
   "metadata": {},
   "outputs": [
    {
     "name": "stdout",
     "output_type": "stream",
     "text": [
      "The hcf is 20\n"
     ]
    }
   ],
   "source": [
    "find_hcf(20,60)"
   ]
  },
  {
   "cell_type": "code",
   "execution_count": 21,
   "id": "7bab97eb",
   "metadata": {},
   "outputs": [],
   "source": [
    "#Q3-Write a pyhton program to convert Decimal to Binary,octal and hexadecimal?"
   ]
  },
  {
   "cell_type": "code",
   "execution_count": 25,
   "id": "e7622a97",
   "metadata": {},
   "outputs": [],
   "source": [
    "\n",
    "def conver(num):\n",
    "    print('converted binary number,', bin(num))\n",
    "    print('converted octal number ,' ,oct(num))\n",
    "    print('converted hexadecimal number ,', hex(num))"
   ]
  },
  {
   "cell_type": "code",
   "execution_count": 26,
   "id": "3f123cfa",
   "metadata": {},
   "outputs": [
    {
     "name": "stdout",
     "output_type": "stream",
     "text": [
      "converted binary number, 0b101011000\n",
      "converted octal number , 0o530\n",
      "converted hexadecimal number , 0x158\n"
     ]
    }
   ],
   "source": [
    "conver(344)"
   ]
  },
  {
   "cell_type": "code",
   "execution_count": 27,
   "id": "9c8ec9a8",
   "metadata": {},
   "outputs": [],
   "source": [
    "#Q4-Write a python program to find the ASCII value of a character ?\n"
   ]
  },
  {
   "cell_type": "code",
   "execution_count": 28,
   "id": "5e167c03",
   "metadata": {},
   "outputs": [
    {
     "name": "stdout",
     "output_type": "stream",
     "text": [
      "enter the character: L\n",
      "The ASCII value of L is 76\n"
     ]
    }
   ],
   "source": [
    "char = input('enter the character: ')\n",
    "converted_value = ord(char)\n",
    "print('The ASCII value of',char,'is',converted_value)"
   ]
  },
  {
   "cell_type": "code",
   "execution_count": 29,
   "id": "6ed8d21f",
   "metadata": {},
   "outputs": [],
   "source": [
    "#Q5-Write a python program to perform 4 basic mathematical operations ?"
   ]
  },
  {
   "cell_type": "code",
   "execution_count": 71,
   "id": "7524c44d",
   "metadata": {},
   "outputs": [],
   "source": [
    "def add(a,b):\n",
    "    print(a+b)\n",
    "def substract (a,b):\n",
    "    print(a-b)\n",
    "def product(a,b):\n",
    "    print(a*b)\n",
    "def divide(a,b):\n",
    "    print(a/b)\n",
    "    \n",
    "    "
   ]
  },
  {
   "cell_type": "code",
   "execution_count": 72,
   "id": "1f5b8236",
   "metadata": {},
   "outputs": [
    {
     "name": "stdout",
     "output_type": "stream",
     "text": [
      "-2\n"
     ]
    }
   ],
   "source": [
    "substract(2,4)"
   ]
  },
  {
   "cell_type": "code",
   "execution_count": null,
   "id": "faf936a7",
   "metadata": {},
   "outputs": [],
   "source": []
  },
  {
   "cell_type": "code",
   "execution_count": null,
   "id": "aefc4bb6",
   "metadata": {},
   "outputs": [],
   "source": []
  }
 ],
 "metadata": {
  "kernelspec": {
   "display_name": "Python 3 (ipykernel)",
   "language": "python",
   "name": "python3"
  },
  "language_info": {
   "codemirror_mode": {
    "name": "ipython",
    "version": 3
   },
   "file_extension": ".py",
   "mimetype": "text/x-python",
   "name": "python",
   "nbconvert_exporter": "python",
   "pygments_lexer": "ipython3",
   "version": "3.9.7"
  }
 },
 "nbformat": 4,
 "nbformat_minor": 5
}
